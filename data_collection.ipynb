{
 "cells": [
  {
   "cell_type": "code",
   "execution_count": 71,
   "id": "92ec6c20",
   "metadata": {},
   "outputs": [],
   "source": [
    "import pandas as pd\n",
    "import numpy as np"
   ]
  },
  {
   "cell_type": "code",
   "execution_count": 2,
   "id": "ffdb87ce",
   "metadata": {},
   "outputs": [
    {
     "name": "stdout",
     "output_type": "stream",
     "text": [
      "Collecting tweepy\n",
      "  Downloading tweepy-4.10.0-py3-none-any.whl (94 kB)\n",
      "\u001b[K     |████████████████████████████████| 94 kB 730 kB/s eta 0:00:01\n",
      "\u001b[?25hCollecting requests-oauthlib<2,>=1.2.0\n",
      "  Downloading requests_oauthlib-1.3.1-py2.py3-none-any.whl (23 kB)\n",
      "Collecting oauthlib<4,>=3.2.0\n",
      "  Downloading oauthlib-3.2.0-py3-none-any.whl (151 kB)\n",
      "\u001b[K     |████████████████████████████████| 151 kB 334 kB/s eta 0:00:01\n",
      "\u001b[?25hRequirement already satisfied: requests<3,>=2.27.0 in /Users/josephpeart/.local/lib/python3.9/site-packages (from tweepy) (2.27.1)\n",
      "Requirement already satisfied: urllib3<1.27,>=1.21.1 in /Users/josephpeart/opt/anaconda3/envs/bcenv/lib/python3.9/site-packages (from requests<3,>=2.27.0->tweepy) (1.26.9)\n",
      "Requirement already satisfied: charset-normalizer~=2.0.0 in /Users/josephpeart/opt/anaconda3/envs/bcenv/lib/python3.9/site-packages (from requests<3,>=2.27.0->tweepy) (2.0.4)\n",
      "Requirement already satisfied: idna<4,>=2.5 in /Users/josephpeart/opt/anaconda3/envs/bcenv/lib/python3.9/site-packages (from requests<3,>=2.27.0->tweepy) (3.3)\n",
      "Requirement already satisfied: certifi>=2017.4.17 in /Users/josephpeart/opt/anaconda3/envs/bcenv/lib/python3.9/site-packages (from requests<3,>=2.27.0->tweepy) (2022.6.15)\n",
      "Installing collected packages: oauthlib, requests-oauthlib, tweepy\n",
      "Successfully installed oauthlib-3.2.0 requests-oauthlib-1.3.1 tweepy-4.10.0\n"
     ]
    }
   ],
   "source": [
    "!pip install tweepy"
   ]
  },
  {
   "cell_type": "code",
   "execution_count": 237,
   "id": "c04421d6",
   "metadata": {},
   "outputs": [],
   "source": [
    "access_key = ''\n",
    "access_secret = ''\n",
    "api_key = ''\n",
    "api_secret = ''\n",
    "bearer = ''"
   ]
  },
  {
   "cell_type": "code",
   "execution_count": 287,
   "id": "5693a9eb",
   "metadata": {},
   "outputs": [],
   "source": [
    "import tweepy\n",
    "\n",
    "auth = tweepy.OAuth1UserHandler(\n",
    "   consumer_key=api_key, consumer_secret=api_secret,\n",
    "    access_token=access_key, access_token_secret=access_secret\n",
    ")"
   ]
  },
  {
   "cell_type": "code",
   "execution_count": 11,
   "id": "c362d0e2",
   "metadata": {},
   "outputs": [],
   "source": [
    "client = tweepy.Client(bearer_token=bearer, consumer_key=api_key,\n",
    "              consumer_secret=api_secret, access_token=access_key,\n",
    "              access_token_secret=access_secret)"
   ]
  },
  {
   "cell_type": "code",
   "execution_count": 121,
   "id": "c0d869de",
   "metadata": {},
   "outputs": [],
   "source": [
    "import time"
   ]
  },
  {
   "cell_type": "code",
   "execution_count": 201,
   "id": "506339b9",
   "metadata": {},
   "outputs": [],
   "source": [
    "import datetime"
   ]
  },
  {
   "cell_type": "code",
   "execution_count": 203,
   "id": "18ed89fa",
   "metadata": {},
   "outputs": [],
   "source": [
    "now = datetime.datetime.now()"
   ]
  },
  {
   "cell_type": "code",
   "execution_count": 219,
   "id": "abce1de3",
   "metadata": {},
   "outputs": [],
   "source": [
    "delta = datetime.timedelta(minutes=30)"
   ]
  },
  {
   "cell_type": "code",
   "execution_count": 248,
   "id": "4a70bfa7",
   "metadata": {},
   "outputs": [],
   "source": [
    "def get_ft(time):\n",
    "    responses = client.search_recent_tweets('#fitness -is:retweet -is:reply lang:en',\n",
    "                                            max_results=100, end_time=time)\n",
    "    tweets = []\n",
    "    for tweet in responses.data:\n",
    "        tweets.append(tweet.text)\n",
    "    return tweets"
   ]
  },
  {
   "cell_type": "code",
   "execution_count": 241,
   "id": "29b4bf0e",
   "metadata": {},
   "outputs": [],
   "source": [
    "fitness_tweets = []"
   ]
  },
  {
   "cell_type": "code",
   "execution_count": 281,
   "id": "607b7fd7",
   "metadata": {},
   "outputs": [],
   "source": [
    "# Scrape 100 tweets every 5 seconds, then collect tweets from 30 minutes prior\n",
    "# iterating back in time in 30 minute increments\n",
    "while len(fitness_tweets) < 5000:\n",
    "    fitness_tweets.extend(get_ft(now))\n",
    "    fitness_tweets = list(set(fitness_tweets))\n",
    "    now -= delta\n",
    "    time.sleep(5)"
   ]
  },
  {
   "cell_type": "code",
   "execution_count": 285,
   "id": "04beaf09",
   "metadata": {},
   "outputs": [],
   "source": [
    "fdf = pd.DataFrame(fitness_tweets)"
   ]
  },
  {
   "cell_type": "code",
   "execution_count": 286,
   "id": "db954e9e",
   "metadata": {},
   "outputs": [
    {
     "data": {
      "text/html": [
       "<div>\n",
       "<style scoped>\n",
       "    .dataframe tbody tr th:only-of-type {\n",
       "        vertical-align: middle;\n",
       "    }\n",
       "\n",
       "    .dataframe tbody tr th {\n",
       "        vertical-align: top;\n",
       "    }\n",
       "\n",
       "    .dataframe thead th {\n",
       "        text-align: right;\n",
       "    }\n",
       "</style>\n",
       "<table border=\"1\" class=\"dataframe\">\n",
       "  <thead>\n",
       "    <tr style=\"text-align: right;\">\n",
       "      <th></th>\n",
       "      <th>0</th>\n",
       "    </tr>\n",
       "  </thead>\n",
       "  <tbody>\n",
       "    <tr>\n",
       "      <th>0</th>\n",
       "      <td>It's been a great day! Come end the day with m...</td>\n",
       "    </tr>\n",
       "    <tr>\n",
       "      <th>1</th>\n",
       "      <td>Fitness Phraseology: 10 Popular Fitness Terms ...</td>\n",
       "    </tr>\n",
       "    <tr>\n",
       "      <th>2</th>\n",
       "      <td>It's July 19, 2022 at 03:59AM, #RiseAndGrind #...</td>\n",
       "    </tr>\n",
       "    <tr>\n",
       "      <th>3</th>\n",
       "      <td>It's nice to we see them really envy us 📈😎#gym...</td>\n",
       "    </tr>\n",
       "    <tr>\n",
       "      <th>4</th>\n",
       "      <td>Need some motivation working out after a long ...</td>\n",
       "    </tr>\n",
       "    <tr>\n",
       "      <th>...</th>\n",
       "      <td>...</td>\n",
       "    </tr>\n",
       "    <tr>\n",
       "      <th>5042</th>\n",
       "      <td>Online #Pharmacy, #health #fitness #wellness #...</td>\n",
       "    </tr>\n",
       "    <tr>\n",
       "      <th>5043</th>\n",
       "      <td>Session @NuffieldHealth this morning and thats...</td>\n",
       "    </tr>\n",
       "    <tr>\n",
       "      <th>5044</th>\n",
       "      <td>adnutrix\\nMost people work hard and spend thei...</td>\n",
       "    </tr>\n",
       "    <tr>\n",
       "      <th>5045</th>\n",
       "      <td>I can be dependable and by no means dissapoint...</td>\n",
       "    </tr>\n",
       "    <tr>\n",
       "      <th>5046</th>\n",
       "      <td>Elbow Protective Knee Pad #kidscasualwear #chi...</td>\n",
       "    </tr>\n",
       "  </tbody>\n",
       "</table>\n",
       "<p>5047 rows × 1 columns</p>\n",
       "</div>"
      ],
      "text/plain": [
       "                                                      0\n",
       "0     It's been a great day! Come end the day with m...\n",
       "1     Fitness Phraseology: 10 Popular Fitness Terms ...\n",
       "2     It's July 19, 2022 at 03:59AM, #RiseAndGrind #...\n",
       "3     It's nice to we see them really envy us 📈😎#gym...\n",
       "4     Need some motivation working out after a long ...\n",
       "...                                                 ...\n",
       "5042  Online #Pharmacy, #health #fitness #wellness #...\n",
       "5043  Session @NuffieldHealth this morning and thats...\n",
       "5044  adnutrix\\nMost people work hard and spend thei...\n",
       "5045  I can be dependable and by no means dissapoint...\n",
       "5046  Elbow Protective Knee Pad #kidscasualwear #chi...\n",
       "\n",
       "[5047 rows x 1 columns]"
      ]
     },
     "execution_count": 286,
     "metadata": {},
     "output_type": "execute_result"
    }
   ],
   "source": [
    "fdf"
   ]
  },
  {
   "cell_type": "code",
   "execution_count": 254,
   "id": "50a08105",
   "metadata": {},
   "outputs": [],
   "source": [
    "fdf.to_csv('fitness_tweets.csv')"
   ]
  }
 ],
 "metadata": {
  "kernelspec": {
   "display_name": "Python 3 (ipykernel)",
   "language": "python",
   "name": "python3"
  },
  "language_info": {
   "codemirror_mode": {
    "name": "ipython",
    "version": 3
   },
   "file_extension": ".py",
   "mimetype": "text/x-python",
   "name": "python",
   "nbconvert_exporter": "python",
   "pygments_lexer": "ipython3",
   "version": "3.9.12"
  }
 },
 "nbformat": 4,
 "nbformat_minor": 5
}
